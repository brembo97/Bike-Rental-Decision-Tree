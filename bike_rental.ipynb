{
 "cells": [
  {
   "cell_type": "markdown",
   "source": [
    "# Predicting Bike Rental Usage\n",
    "\n",
    "In this project we'll be using a dataset containing information\n",
    "about the daily usage of bike rentals in the districts of Washington D.C.\n",
    "This dataset can be downloaded at [University of California Irvine website](http://archive.ics.uci.edu/ml/datasets/Bike+Sharing+Dataset)\n",
    "where each row represents the number of bike rentals for a single hour\n",
    "of a single day.\n",
    "\n",
    "The description of the relevant columns is:\n",
    "* instant - A unique sequential ID number for each row\n",
    "* dteday - The date of the rentals\n",
    "* season - The season in which the rentals occurred\n",
    "* yr - The year the rentals occurred\n",
    "* mnth - The month the rentals occurred\n",
    "* hr - The hour the rentals occurred\n",
    "* holiday - Whether or not the day was a holiday\n",
    "* weekday - The day of the week (as a number, 0 to 7)\n",
    "* workingday - Whether or not the day was a working day\n",
    "* weathersit - The weather (as a categorical variable)\n",
    "* temp - The temperature, on a 0-1 scale\n",
    "* atemp - The adjusted temperature\n",
    "* hum - The humidity, on a 0-1 scale\n",
    "* windspeed - The wind speed, on a 0-1 scale\n",
    "* casual - The number of casual riders (people who hadn't previously signed up with the bike sharing program)\n",
    "* registered - The number of registered riders (people who had already signed up)\n",
    "* cnt - The total number of bike rentals (casual + registered)\n",
    "\n",
    "The objective of the project is to predict the total number of bikes\n",
    "people rented in a single hour. To accomplish this we'll create\n",
    "different machine learning models and evaluate their performance."
   ],
   "metadata": {
    "collapsed": false,
    "pycharm": {
     "name": "#%% md\n"
    }
   }
  },
  {
   "cell_type": "code",
   "execution_count": 1,
   "metadata": {
    "collapsed": true
   },
   "outputs": [
    {
     "data": {
      "text/plain": "   instant      dteday  season  yr  mnth  hr  holiday  weekday  workingday  \\\n0        1  2011-01-01       1   0     1   0        0        6           0   \n1        2  2011-01-01       1   0     1   1        0        6           0   \n2        3  2011-01-01       1   0     1   2        0        6           0   \n3        4  2011-01-01       1   0     1   3        0        6           0   \n4        5  2011-01-01       1   0     1   4        0        6           0   \n\n   weathersit  temp   atemp   hum  windspeed  casual  registered  cnt  \n0           1  0.24  0.2879  0.81        0.0       3          13   16  \n1           1  0.22  0.2727  0.80        0.0       8          32   40  \n2           1  0.22  0.2727  0.80        0.0       5          27   32  \n3           1  0.24  0.2879  0.75        0.0       3          10   13  \n4           1  0.24  0.2879  0.75        0.0       0           1    1  ",
      "text/html": "<div>\n<style scoped>\n    .dataframe tbody tr th:only-of-type {\n        vertical-align: middle;\n    }\n\n    .dataframe tbody tr th {\n        vertical-align: top;\n    }\n\n    .dataframe thead th {\n        text-align: right;\n    }\n</style>\n<table border=\"1\" class=\"dataframe\">\n  <thead>\n    <tr style=\"text-align: right;\">\n      <th></th>\n      <th>instant</th>\n      <th>dteday</th>\n      <th>season</th>\n      <th>yr</th>\n      <th>mnth</th>\n      <th>hr</th>\n      <th>holiday</th>\n      <th>weekday</th>\n      <th>workingday</th>\n      <th>weathersit</th>\n      <th>temp</th>\n      <th>atemp</th>\n      <th>hum</th>\n      <th>windspeed</th>\n      <th>casual</th>\n      <th>registered</th>\n      <th>cnt</th>\n    </tr>\n  </thead>\n  <tbody>\n    <tr>\n      <th>0</th>\n      <td>1</td>\n      <td>2011-01-01</td>\n      <td>1</td>\n      <td>0</td>\n      <td>1</td>\n      <td>0</td>\n      <td>0</td>\n      <td>6</td>\n      <td>0</td>\n      <td>1</td>\n      <td>0.24</td>\n      <td>0.2879</td>\n      <td>0.81</td>\n      <td>0.0</td>\n      <td>3</td>\n      <td>13</td>\n      <td>16</td>\n    </tr>\n    <tr>\n      <th>1</th>\n      <td>2</td>\n      <td>2011-01-01</td>\n      <td>1</td>\n      <td>0</td>\n      <td>1</td>\n      <td>1</td>\n      <td>0</td>\n      <td>6</td>\n      <td>0</td>\n      <td>1</td>\n      <td>0.22</td>\n      <td>0.2727</td>\n      <td>0.80</td>\n      <td>0.0</td>\n      <td>8</td>\n      <td>32</td>\n      <td>40</td>\n    </tr>\n    <tr>\n      <th>2</th>\n      <td>3</td>\n      <td>2011-01-01</td>\n      <td>1</td>\n      <td>0</td>\n      <td>1</td>\n      <td>2</td>\n      <td>0</td>\n      <td>6</td>\n      <td>0</td>\n      <td>1</td>\n      <td>0.22</td>\n      <td>0.2727</td>\n      <td>0.80</td>\n      <td>0.0</td>\n      <td>5</td>\n      <td>27</td>\n      <td>32</td>\n    </tr>\n    <tr>\n      <th>3</th>\n      <td>4</td>\n      <td>2011-01-01</td>\n      <td>1</td>\n      <td>0</td>\n      <td>1</td>\n      <td>3</td>\n      <td>0</td>\n      <td>6</td>\n      <td>0</td>\n      <td>1</td>\n      <td>0.24</td>\n      <td>0.2879</td>\n      <td>0.75</td>\n      <td>0.0</td>\n      <td>3</td>\n      <td>10</td>\n      <td>13</td>\n    </tr>\n    <tr>\n      <th>4</th>\n      <td>5</td>\n      <td>2011-01-01</td>\n      <td>1</td>\n      <td>0</td>\n      <td>1</td>\n      <td>4</td>\n      <td>0</td>\n      <td>6</td>\n      <td>0</td>\n      <td>1</td>\n      <td>0.24</td>\n      <td>0.2879</td>\n      <td>0.75</td>\n      <td>0.0</td>\n      <td>0</td>\n      <td>1</td>\n      <td>1</td>\n    </tr>\n  </tbody>\n</table>\n</div>"
     },
     "execution_count": 1,
     "metadata": {},
     "output_type": "execute_result"
    }
   ],
   "source": [
    "import pandas as pd\n",
    "data = pd.read_csv('hour.csv')\n",
    "data.head()"
   ]
  },
  {
   "cell_type": "markdown",
   "source": [
    "## Data Exploration"
   ],
   "metadata": {
    "collapsed": false,
    "pycharm": {
     "name": "#%% md\n"
    }
   }
  },
  {
   "cell_type": "code",
   "source": [
    "import matplotlib.pyplot as plt\n",
    "\n",
    "plt.hist(data['cnt'])\n",
    "plt.xlabel('Count')\n",
    "plt.ylabel('Bike Rentals')\n",
    "plt.title('Bike Rental Distribution')\n",
    "plt.show()"
   ],
   "metadata": {
    "collapsed": false,
    "pycharm": {
     "name": "#%%\n"
    }
   },
   "execution_count": 2,
   "outputs": [
    {
     "data": {
      "text/plain": "<Figure size 432x288 with 1 Axes>",
      "image/png": "[encoded data removed]"
     },
     "metadata": {
      "needs_background": "light"
     },
     "output_type": "display_data"
    }
   ]
  },
  {
   "cell_type": "code",
   "execution_count": 3,
   "outputs": [
    {
     "data": {
      "text/plain": "hum          -0.322911\nweathersit   -0.142426\nholiday      -0.030927\nweekday       0.026900\nworkingday    0.030284\nwindspeed     0.093234\nmnth          0.120638\nseason        0.178056\nyr            0.250495\ninstant       0.278379\nhr            0.394071\natemp         0.400929\ntemp          0.404772\ncasual        0.694564\nregistered    0.972151\ncnt           1.000000\nName: cnt, dtype: float64"
     },
     "execution_count": 3,
     "metadata": {},
     "output_type": "execute_result"
    }
   ],
   "source": [
    "correlations = data.corr()\n",
    "correlations['cnt'].sort_values()"
   ],
   "metadata": {
    "collapsed": false,
    "pycharm": {
     "name": "#%%\n"
    }
   }
  },
  {
   "cell_type": "code",
   "execution_count": 4,
   "outputs": [
    {
     "data": {
      "text/plain": "<AxesSubplot:>"
     },
     "execution_count": 4,
     "metadata": {},
     "output_type": "execute_result"
    },
    {
     "data": {
      "text/plain": "<Figure size 432x288 with 2 Axes>",
      "image/png": "[encoded data removed]"
     },
     "metadata": {
      "needs_background": "light"
     },
     "output_type": "display_data"
    }
   ],
   "source": [
    "from seaborn import heatmap\n",
    "heatmap(correlations)"
   ],
   "metadata": {
    "collapsed": false,
    "pycharm": {
     "name": "#%%\n"
    }
   }
  },
  {
   "cell_type": "markdown",
   "source": [
    "## Feature Engineering\n",
    "\n",
    "First we'll create a column that indicates the time of the day of the bike rental. We'll assign morning(1),\n",
    "afternoon(2), evening(4), and night(4)"
   ],
   "metadata": {
    "collapsed": false,
    "pycharm": {
     "name": "#%% md\n"
    }
   }
  },
  {
   "cell_type": "code",
   "execution_count": 5,
   "outputs": [
    {
     "data": {
      "text/plain": "       instant      dteday  season  yr  mnth  hr  holiday  weekday  \\\n4386      4387  2011-07-06       3   0     7  16        0        3   \n14325    14326  2012-08-25       3   1     8   2        0        6   \n6370      6371  2011-09-28       4   0     9   0        0        3   \n11947    11948  2012-05-18       2   1     5   0        0        5   \n1692      1693  2011-03-16       1   0     3   4        0        3   \n\n       workingday  weathersit  temp   atemp   hum  windspeed  casual  \\\n4386            1           1  0.76  0.7273  0.70     0.2537      57   \n14325           0           2  0.66  0.6212  0.74     0.0896      18   \n6370            1           1  0.60  0.5455  0.88     0.0000       7   \n11947           1           1  0.52  0.5000  0.59     0.1045      13   \n1692            1           2  0.30  0.3030  0.93     0.1642       0   \n\n       registered  cnt  time_label  \n4386          218  275           3  \n14325          61   79           1  \n6370           29   36           1  \n11947          57   70           1  \n1692            1    1           1  ",
      "text/html": "<div>\n<style scoped>\n    .dataframe tbody tr th:only-of-type {\n        vertical-align: middle;\n    }\n\n    .dataframe tbody tr th {\n        vertical-align: top;\n    }\n\n    .dataframe thead th {\n        text-align: right;\n    }\n</style>\n<table border=\"1\" class=\"dataframe\">\n  <thead>\n    <tr style=\"text-align: right;\">\n      <th></th>\n      <th>instant</th>\n      <th>dteday</th>\n      <th>season</th>\n      <th>yr</th>\n      <th>mnth</th>\n      <th>hr</th>\n      <th>holiday</th>\n      <th>weekday</th>\n      <th>workingday</th>\n      <th>weathersit</th>\n      <th>temp</th>\n      <th>atemp</th>\n      <th>hum</th>\n      <th>windspeed</th>\n      <th>casual</th>\n      <th>registered</th>\n      <th>cnt</th>\n      <th>time_label</th>\n    </tr>\n  </thead>\n  <tbody>\n    <tr>\n      <th>4386</th>\n      <td>4387</td>\n      <td>2011-07-06</td>\n      <td>3</td>\n      <td>0</td>\n      <td>7</td>\n      <td>16</td>\n      <td>0</td>\n      <td>3</td>\n      <td>1</td>\n      <td>1</td>\n      <td>0.76</td>\n      <td>0.7273</td>\n      <td>0.70</td>\n      <td>0.2537</td>\n      <td>57</td>\n      <td>218</td>\n      <td>275</td>\n      <td>3</td>\n    </tr>\n    <tr>\n      <th>14325</th>\n      <td>14326</td>\n      <td>2012-08-25</td>\n      <td>3</td>\n      <td>1</td>\n      <td>8</td>\n      <td>2</td>\n      <td>0</td>\n      <td>6</td>\n      <td>0</td>\n      <td>2</td>\n      <td>0.66</td>\n      <td>0.6212</td>\n      <td>0.74</td>\n      <td>0.0896</td>\n      <td>18</td>\n      <td>61</td>\n      <td>79</td>\n      <td>1</td>\n    </tr>\n    <tr>\n      <th>6370</th>\n      <td>6371</td>\n      <td>2011-09-28</td>\n      <td>4</td>\n      <td>0</td>\n      <td>9</td>\n      <td>0</td>\n      <td>0</td>\n      <td>3</td>\n      <td>1</td>\n      <td>1</td>\n      <td>0.60</td>\n      <td>0.5455</td>\n      <td>0.88</td>\n      <td>0.0000</td>\n      <td>7</td>\n      <td>29</td>\n      <td>36</td>\n      <td>1</td>\n    </tr>\n    <tr>\n      <th>11947</th>\n      <td>11948</td>\n      <td>2012-05-18</td>\n      <td>2</td>\n      <td>1</td>\n      <td>5</td>\n      <td>0</td>\n      <td>0</td>\n      <td>5</td>\n      <td>1</td>\n      <td>1</td>\n      <td>0.52</td>\n      <td>0.5000</td>\n      <td>0.59</td>\n      <td>0.1045</td>\n      <td>13</td>\n      <td>57</td>\n      <td>70</td>\n      <td>1</td>\n    </tr>\n    <tr>\n      <th>1692</th>\n      <td>1693</td>\n      <td>2011-03-16</td>\n      <td>1</td>\n      <td>0</td>\n      <td>3</td>\n      <td>4</td>\n      <td>0</td>\n      <td>3</td>\n      <td>1</td>\n      <td>2</td>\n      <td>0.30</td>\n      <td>0.3030</td>\n      <td>0.93</td>\n      <td>0.1642</td>\n      <td>0</td>\n      <td>1</td>\n      <td>1</td>\n      <td>1</td>\n    </tr>\n  </tbody>\n</table>\n</div>"
     },
     "execution_count": 5,
     "metadata": {},
     "output_type": "execute_result"
    }
   ],
   "source": [
    "def assign_time_of_day(hour):\n",
    "\n",
    "    if hour/6 <= 1:\n",
    "        return 1\n",
    "    elif hour/6 <= 2:\n",
    "        return 2\n",
    "    elif hour/6 <= 3:\n",
    "        return 3\n",
    "    elif hour/6 <= 4:\n",
    "        return 4\n",
    "\n",
    "data['time_label'] = data['hr'].apply(assign_time_of_day)\n",
    "data.sample(n=5)"
   ],
   "metadata": {
    "collapsed": false,
    "pycharm": {
     "name": "#%%\n"
    }
   }
  },
  {
   "cell_type": "code",
   "execution_count": 6,
   "outputs": [
    {
     "data": {
      "text/plain": "       instant      dteday  season  yr  mnth  hr  holiday  weekday  \\\n8058      8059  2011-12-07       4   0    12  10        0        3   \n10532    10533  2012-03-19       1   1     3  23        0        1   \n4344      4345  2011-07-04       3   0     7  22        1        1   \n13828    13829  2012-08-04       3   1     8   9        0        6   \n9159      9160  2012-01-22       1   1     1  13        0        0   \n\n       workingday  weathersit  temp   atemp   hum  windspeed  casual  \\\n8058            1           3  0.44  0.4394  1.00     0.0896       1   \n10532           1           2  0.56  0.5303  0.78     0.1343       9   \n4344            0           2  0.74  0.6818  0.62     0.1343     115   \n13828           0           1  0.78  0.7576  0.65     0.2239      61   \n9159            0           2  0.16  0.1818  0.80     0.1343      24   \n\n       registered  cnt  time_label  \n8058           32   33           2  \n10532          45   54           4  \n4344          211  326           4  \n13828         217  278           2  \n9159          175  199           3  ",
      "text/html": "<div>\n<style scoped>\n    .dataframe tbody tr th:only-of-type {\n        vertical-align: middle;\n    }\n\n    .dataframe tbody tr th {\n        vertical-align: top;\n    }\n\n    .dataframe thead th {\n        text-align: right;\n    }\n</style>\n<table border=\"1\" class=\"dataframe\">\n  <thead>\n    <tr style=\"text-align: right;\">\n      <th></th>\n      <th>instant</th>\n      <th>dteday</th>\n      <th>season</th>\n      <th>yr</th>\n      <th>mnth</th>\n      <th>hr</th>\n      <th>holiday</th>\n      <th>weekday</th>\n      <th>workingday</th>\n      <th>weathersit</th>\n      <th>temp</th>\n      <th>atemp</th>\n      <th>hum</th>\n      <th>windspeed</th>\n      <th>casual</th>\n      <th>registered</th>\n      <th>cnt</th>\n      <th>time_label</th>\n    </tr>\n  </thead>\n  <tbody>\n    <tr>\n      <th>8058</th>\n      <td>8059</td>\n      <td>2011-12-07</td>\n      <td>4</td>\n      <td>0</td>\n      <td>12</td>\n      <td>10</td>\n      <td>0</td>\n      <td>3</td>\n      <td>1</td>\n      <td>3</td>\n      <td>0.44</td>\n      <td>0.4394</td>\n      <td>1.00</td>\n      <td>0.0896</td>\n      <td>1</td>\n      <td>32</td>\n      <td>33</td>\n      <td>2</td>\n    </tr>\n    <tr>\n      <th>10532</th>\n      <td>10533</td>\n      <td>2012-03-19</td>\n      <td>1</td>\n      <td>1</td>\n      <td>3</td>\n      <td>23</td>\n      <td>0</td>\n      <td>1</td>\n      <td>1</td>\n      <td>2</td>\n      <td>0.56</td>\n      <td>0.5303</td>\n      <td>0.78</td>\n      <td>0.1343</td>\n      <td>9</td>\n      <td>45</td>\n      <td>54</td>\n      <td>4</td>\n    </tr>\n    <tr>\n      <th>4344</th>\n      <td>4345</td>\n      <td>2011-07-04</td>\n      <td>3</td>\n      <td>0</td>\n      <td>7</td>\n      <td>22</td>\n      <td>1</td>\n      <td>1</td>\n      <td>0</td>\n      <td>2</td>\n      <td>0.74</td>\n      <td>0.6818</td>\n      <td>0.62</td>\n      <td>0.1343</td>\n      <td>115</td>\n      <td>211</td>\n      <td>326</td>\n      <td>4</td>\n    </tr>\n    <tr>\n      <th>13828</th>\n      <td>13829</td>\n      <td>2012-08-04</td>\n      <td>3</td>\n      <td>1</td>\n      <td>8</td>\n      <td>9</td>\n      <td>0</td>\n      <td>6</td>\n      <td>0</td>\n      <td>1</td>\n      <td>0.78</td>\n      <td>0.7576</td>\n      <td>0.65</td>\n      <td>0.2239</td>\n      <td>61</td>\n      <td>217</td>\n      <td>278</td>\n      <td>2</td>\n    </tr>\n    <tr>\n      <th>9159</th>\n      <td>9160</td>\n      <td>2012-01-22</td>\n      <td>1</td>\n      <td>1</td>\n      <td>1</td>\n      <td>13</td>\n      <td>0</td>\n      <td>0</td>\n      <td>0</td>\n      <td>2</td>\n      <td>0.16</td>\n      <td>0.1818</td>\n      <td>0.80</td>\n      <td>0.1343</td>\n      <td>24</td>\n      <td>175</td>\n      <td>199</td>\n      <td>3</td>\n    </tr>\n  </tbody>\n</table>\n</div>"
     },
     "execution_count": 6,
     "metadata": {},
     "output_type": "execute_result"
    }
   ],
   "source": [
    "train = data.sample(n=int(data.shape[0]*.8))\n",
    "train.head()\n"
   ],
   "metadata": {
    "collapsed": false,
    "pycharm": {
     "name": "#%%\n"
    }
   }
  },
  {
   "cell_type": "code",
   "execution_count": 7,
   "outputs": [
    {
     "data": {
      "text/plain": "    instant      dteday  season  yr  mnth  hr  holiday  weekday  workingday  \\\n9        10  2011-01-01       1   0     1   9        0        6           0   \n23       24  2011-01-01       1   0     1  23        0        6           0   \n25       26  2011-01-02       1   0     1   1        0        0           0   \n27       28  2011-01-02       1   0     1   3        0        0           0   \n29       30  2011-01-02       1   0     1   6        0        0           0   \n\n    weathersit  temp   atemp   hum  windspeed  casual  registered  cnt  \\\n9            1  0.32  0.3485  0.76     0.0000       8           6   14   \n23           2  0.46  0.4545  0.88     0.2985      15          24   39   \n25           2  0.44  0.4394  0.94     0.2537       1          16   17   \n27           2  0.46  0.4545  0.94     0.1940       2           4    6   \n29           3  0.42  0.4242  0.77     0.2985       0           2    2   \n\n    time_label  \n9            2  \n23           4  \n25           1  \n27           1  \n29           1  ",
      "text/html": "<div>\n<style scoped>\n    .dataframe tbody tr th:only-of-type {\n        vertical-align: middle;\n    }\n\n    .dataframe tbody tr th {\n        vertical-align: top;\n    }\n\n    .dataframe thead th {\n        text-align: right;\n    }\n</style>\n<table border=\"1\" class=\"dataframe\">\n  <thead>\n    <tr style=\"text-align: right;\">\n      <th></th>\n      <th>instant</th>\n      <th>dteday</th>\n      <th>season</th>\n      <th>yr</th>\n      <th>mnth</th>\n      <th>hr</th>\n      <th>holiday</th>\n      <th>weekday</th>\n      <th>workingday</th>\n      <th>weathersit</th>\n      <th>temp</th>\n      <th>atemp</th>\n      <th>hum</th>\n      <th>windspeed</th>\n      <th>casual</th>\n      <th>registered</th>\n      <th>cnt</th>\n      <th>time_label</th>\n    </tr>\n  </thead>\n  <tbody>\n    <tr>\n      <th>9</th>\n      <td>10</td>\n      <td>2011-01-01</td>\n      <td>1</td>\n      <td>0</td>\n      <td>1</td>\n      <td>9</td>\n      <td>0</td>\n      <td>6</td>\n      <td>0</td>\n      <td>1</td>\n      <td>0.32</td>\n      <td>0.3485</td>\n      <td>0.76</td>\n      <td>0.0000</td>\n      <td>8</td>\n      <td>6</td>\n      <td>14</td>\n      <td>2</td>\n    </tr>\n    <tr>\n      <th>23</th>\n      <td>24</td>\n      <td>2011-01-01</td>\n      <td>1</td>\n      <td>0</td>\n      <td>1</td>\n      <td>23</td>\n      <td>0</td>\n      <td>6</td>\n      <td>0</td>\n      <td>2</td>\n      <td>0.46</td>\n      <td>0.4545</td>\n      <td>0.88</td>\n      <td>0.2985</td>\n      <td>15</td>\n      <td>24</td>\n      <td>39</td>\n      <td>4</td>\n    </tr>\n    <tr>\n      <th>25</th>\n      <td>26</td>\n      <td>2011-01-02</td>\n      <td>1</td>\n      <td>0</td>\n      <td>1</td>\n      <td>1</td>\n      <td>0</td>\n      <td>0</td>\n      <td>0</td>\n      <td>2</td>\n      <td>0.44</td>\n      <td>0.4394</td>\n      <td>0.94</td>\n      <td>0.2537</td>\n      <td>1</td>\n      <td>16</td>\n      <td>17</td>\n      <td>1</td>\n    </tr>\n    <tr>\n      <th>27</th>\n      <td>28</td>\n      <td>2011-01-02</td>\n      <td>1</td>\n      <td>0</td>\n      <td>1</td>\n      <td>3</td>\n      <td>0</td>\n      <td>0</td>\n      <td>0</td>\n      <td>2</td>\n      <td>0.46</td>\n      <td>0.4545</td>\n      <td>0.94</td>\n      <td>0.1940</td>\n      <td>2</td>\n      <td>4</td>\n      <td>6</td>\n      <td>1</td>\n    </tr>\n    <tr>\n      <th>29</th>\n      <td>30</td>\n      <td>2011-01-02</td>\n      <td>1</td>\n      <td>0</td>\n      <td>1</td>\n      <td>6</td>\n      <td>0</td>\n      <td>0</td>\n      <td>0</td>\n      <td>3</td>\n      <td>0.42</td>\n      <td>0.4242</td>\n      <td>0.77</td>\n      <td>0.2985</td>\n      <td>0</td>\n      <td>2</td>\n      <td>2</td>\n      <td>1</td>\n    </tr>\n  </tbody>\n</table>\n</div>"
     },
     "execution_count": 7,
     "metadata": {},
     "output_type": "execute_result"
    }
   ],
   "source": [
    "test = data[~data.index.isin(train.index)]\n",
    "test.head()"
   ],
   "metadata": {
    "collapsed": false,
    "pycharm": {
     "name": "#%%\n"
    }
   }
  },
  {
   "cell_type": "markdown",
   "source": [
    "## Feature Selection\n",
    "\n",
    "Now we'll select the features excluding those that provide redundant information or leak information of the\n",
    "target variable."
   ],
   "metadata": {
    "collapsed": false,
    "pycharm": {
     "name": "#%% md\n"
    }
   }
  },
  {
   "cell_type": "code",
   "execution_count": 8,
   "outputs": [],
   "source": [
    "excluded = ['cnt', 'casual', 'dteday', 'registered', 'atemp']\n",
    "features = [col for col in data.columns if col not in excluded]"
   ],
   "metadata": {
    "collapsed": false,
    "pycharm": {
     "name": "#%%\n"
    }
   }
  },
  {
   "cell_type": "code",
   "execution_count": 9,
   "outputs": [],
   "source": [
    "from sklearn.linear_model import LinearRegression\n",
    "\n",
    "lr = LinearRegression()\n",
    "lr.fit(data[features], data['cnt'])\n",
    "predictions = lr.predict(test[features])"
   ],
   "metadata": {
    "collapsed": false,
    "pycharm": {
     "name": "#%%\n"
    }
   }
  },
  {
   "cell_type": "markdown",
   "source": [
    "## Error\n",
    "\n",
    "We will pick the mean square error (MSE) as our error metric since it works well on continuous numeric data,\n",
    "which fits our data quite well."
   ],
   "metadata": {
    "collapsed": false,
    "pycharm": {
     "name": "#%% md\n"
    }
   }
  },
  {
   "cell_type": "code",
   "execution_count": 10,
   "outputs": [
    {
     "name": "stdout",
     "output_type": "stream",
     "text": [
      "144.35830380302528\n"
     ]
    }
   ],
   "source": [
    "from sklearn.metrics import mean_squared_error\n",
    "\n",
    "mse = mean_squared_error(test['cnt'], predictions)\n",
    "rmse = mse ** (1/2)\n",
    "print(rmse)"
   ],
   "metadata": {
    "collapsed": false,
    "pycharm": {
     "name": "#%%\n"
    }
   }
  },
  {
   "cell_type": "markdown",
   "source": [
    "The error obtained is really high and may be due to MSE punishing heavily outliers. This could also be due\n",
    "to the relationship between the variables not having a linear relationship and therefore making a LR a bad\n",
    "model decision.\n"
   ],
   "metadata": {
    "collapsed": false,
    "pycharm": {
     "name": "#%% md\n"
    }
   }
  },
  {
   "cell_type": "markdown",
   "source": [
    "## Decision Tree"
   ],
   "metadata": {
    "collapsed": false,
    "pycharm": {
     "name": "#%% md\n"
    }
   }
  },
  {
   "cell_type": "code",
   "execution_count": 20,
   "outputs": [
    {
     "name": "stdout",
     "output_type": "stream",
     "text": [
      "51.71256781295199\n"
     ]
    }
   ],
   "source": [
    "from sklearn.tree import DecisionTreeRegressor\n",
    "\n",
    "dtr = DecisionTreeRegressor(min_samples_leaf=5, max_depth=15, random_state=15)\n",
    "dtr.fit(train[features], train['cnt'])\n",
    "predictions = dtr.predict(test[features])\n",
    "\n",
    "mse = mean_squared_error(test['cnt'], predictions)\n",
    "rmse = mse ** (1/2)\n",
    "print(rmse)"
   ],
   "metadata": {
    "collapsed": false,
    "pycharm": {
     "name": "#%%\n"
    }
   }
  },
  {
   "cell_type": "markdown",
   "source": [
    "The error improved considerably compared to the Linear Regression Model. Now lets try to decrease it even\n",
    "further by applying Random Forest.\n",
    "\n",
    "## Random Forest"
   ],
   "metadata": {
    "collapsed": false
   }
  },
  {
   "cell_type": "code",
   "execution_count": 24,
   "outputs": [
    {
     "name": "stdout",
     "output_type": "stream",
     "text": [
      "42.81469753650892\n"
     ]
    }
   ],
   "source": [
    "from sklearn.ensemble import RandomForestRegressor\n",
    "\n",
    "rf = RandomForestRegressor(min_samples_leaf=5,\n",
    "                           max_depth=15,\n",
    "                           n_estimators=200,\n",
    "                           max_features='auto',\n",
    "                           random_state=15)\n",
    "\n",
    "rf.fit(train[features], train['cnt'])\n",
    "predictions = rf.predict(test[features])\n",
    "\n",
    "mse = mean_squared_error(test['cnt'], predictions)\n",
    "rmse = mse ** (1/2)\n",
    "print(rmse)\n"
   ],
   "metadata": {
    "collapsed": false,
    "pycharm": {
     "name": "#%%\n"
    }
   }
  },
  {
   "cell_type": "markdown",
   "source": [
    "By building a more robust decision tree by using imputation and feature sampling Random Forest was able to\n",
    "improve on the accuracy from the decision tree.\n"
   ],
   "metadata": {
    "collapsed": false
   }
  }
 ],
 "metadata": {
  "kernelspec": {
   "display_name": "Python 3",
   "language": "python",
   "name": "python3"
  },
  "language_info": {
   "codemirror_mode": {
    "name": "ipython",
    "version": 2
   },
   "file_extension": ".py",
   "mimetype": "text/x-python",
   "name": "python",
   "nbconvert_exporter": "python",
   "pygments_lexer": "ipython2",
   "version": "2.7.6"
  }
 },
 "nbformat": 4,
 "nbformat_minor": 0
}